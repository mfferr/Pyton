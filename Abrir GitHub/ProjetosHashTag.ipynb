{
 "cells": [
  {
   "cell_type": "code",
   "execution_count": 6,
   "id": "161bb8b6",
   "metadata": {},
   "outputs": [],
   "source": [
    "import pyautogui\n",
    "import pyperclip\n",
    "import time\n",
    "\n",
    "\n",
    "pyautogui.PAUSE = 1   #tempo/delay\n",
    "\n",
    "#Entrar no navegador\n",
    "pyautogui.hotkey(\"win\")\n",
    "time.sleep(2)\n",
    "pyperclip.copy(\"Google Chrome\")\n",
    "pyautogui.hotkey(\"ctrl\", \"v\")\n",
    "pyautogui.press (\"enter\")  \n",
    "time.sleep(2)\n",
    "\n",
    "#Entrar no sistema\n",
    "pyperclip.copy(\"https://github.com/mfferr\")            #copiando link\n",
    "pyautogui.hotkey(\"ctrl\", \"v\")                          #colando link\n",
    "pyautogui.press(\"enter\")                               #entrando no link\n",
    "\n",
    "time.sleep(3)                                          #carregar sistema (demorar 5 sesgundos)\n",
    "pyautogui.click(x=320, y=610, clicks=1) \n",
    "#clicar em follow\n",
    "time.sleep(2)  \n",
    "pyautogui.click(x=944, y=215)"
   ]
  }
 ],
 "metadata": {
  "kernelspec": {
   "display_name": "Python 3 (ipykernel)",
   "language": "python",
   "name": "python3"
  },
  "language_info": {
   "codemirror_mode": {
    "name": "ipython",
    "version": 3
   },
   "file_extension": ".py",
   "mimetype": "text/x-python",
   "name": "python",
   "nbconvert_exporter": "python",
   "pygments_lexer": "ipython3",
   "version": "3.9.7"
  }
 },
 "nbformat": 4,
 "nbformat_minor": 5
}
