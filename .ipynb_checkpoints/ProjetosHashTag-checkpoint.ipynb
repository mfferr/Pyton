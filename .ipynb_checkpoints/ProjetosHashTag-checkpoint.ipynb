{
 "cells": [
  {
   "cell_type": "code",
   "execution_count": 1,
   "id": "161bb8b6",
   "metadata": {},
   "outputs": [],
   "source": [
    "import pyautogui\n",
    "import pyperclip\n",
    "import time\n",
    "\n",
    "pyautogui.PAUSE = 1                                    #tempo/delay\n",
    "pyautogui.hotkey(\"ctrl\", \"t\")                          #abrindo uma aba\n",
    "pyperclip.copy(\"https://github.com/mfferr\")            #copiando link\n",
    "pyautogui.hotkey(\"ctrl\", \"v\")                          #colando link\n",
    "pyautogui.press(\"enter\")                               #entrando no link\n",
    "\n",
    "time.sleep(3)                                          #carregar sistema (demorar 5 sesgundos)\n",
    "pyautogui.click(x=320, y=610, clicks=1)                #clicar em follow\n"
   ]
  },
  {
   "cell_type": "code",
   "execution_count": null,
   "id": "09f8c891",
   "metadata": {},
   "outputs": [],
   "source": []
  }
 ],
 "metadata": {
  "kernelspec": {
   "display_name": "Python 3 (ipykernel)",
   "language": "python",
   "name": "python3"
  },
  "language_info": {
   "codemirror_mode": {
    "name": "ipython",
    "version": 3
   },
   "file_extension": ".py",
   "mimetype": "text/x-python",
   "name": "python",
   "nbconvert_exporter": "python",
   "pygments_lexer": "ipython3",
   "version": "3.9.7"
  }
 },
 "nbformat": 4,
 "nbformat_minor": 5
}
